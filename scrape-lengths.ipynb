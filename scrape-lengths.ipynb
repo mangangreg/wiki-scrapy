{
 "cells": [
  {
   "cell_type": "code",
   "execution_count": 2,
   "metadata": {},
   "outputs": [],
   "source": [
    "import requests\n",
    "from bs4 import BeautifulSoup"
   ]
  },
  {
   "cell_type": "code",
   "execution_count": 3,
   "metadata": {},
   "outputs": [],
   "source": [
    "url ='https://en.wikipedia.org/wiki/Pet_Sounds'"
   ]
  },
  {
   "cell_type": "code",
   "execution_count": 4,
   "metadata": {},
   "outputs": [],
   "source": [
    "soup=BeautifulSoup(requests.get(url).text, 'lxml')"
   ]
  },
  {
   "cell_type": "code",
   "execution_count": 5,
   "metadata": {},
   "outputs": [
    {
     "name": "stdout",
     "output_type": "stream",
     "text": [
      "35:57\n"
     ]
    }
   ],
   "source": [
    "#Located the info box (the first table on wikipedia page)\n",
    "table = soup.find('table')\n",
    "\n",
    "# Loop through the rows in the table\n",
    "for row in table.find_all('tr'):\n",
    "    #Using try-except because some rows are empty and row.find().text returns  None\n",
    "    try:\n",
    "        # If the first cell (in a 'th' tag) is 'Length'\n",
    "        if(row.find('th').text =='Length'):\n",
    "            # Then the length exists in the 'td' tag of the row\n",
    "            length=row.find('td').text\n",
    "            print(length)\n",
    "    except:\n",
    "        pass"
   ]
  }
 ],
 "metadata": {
  "kernelspec": {
   "display_name": "Python 3",
   "language": "python",
   "name": "python3"
  },
  "language_info": {
   "codemirror_mode": {
    "name": "ipython",
    "version": 3
   },
   "file_extension": ".py",
   "mimetype": "text/x-python",
   "name": "python",
   "nbconvert_exporter": "python",
   "pygments_lexer": "ipython3",
   "version": "3.6.4"
  }
 },
 "nbformat": 4,
 "nbformat_minor": 2
}
