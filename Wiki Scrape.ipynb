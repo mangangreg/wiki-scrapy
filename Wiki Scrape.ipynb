{
 "cells": [
  {
   "cell_type": "markdown",
   "metadata": {},
   "source": [
    "# Scraping bio/characteristic data from Wikipedia"
   ]
  },
  {
   "cell_type": "code",
   "execution_count": 2,
   "metadata": {},
   "outputs": [],
   "source": [
    "# Setup and params\n",
    "import requests\n",
    "import bs4\n",
    "\n",
    "prefix=\"https://en.wikipedia.org/wiki/\"\n",
    "title='sample'\n",
    "suffix=title.replace(\" \",\"_\")\n",
    "url = prefix + suffix"
   ]
  },
  {
   "cell_type": "markdown",
   "metadata": {},
   "source": [
    "## Define Scraping function\n",
    "Function takes the following arguments:\n",
    "-  Article List - A list of the articles you want to scrape from\n",
    "-  Characteristics - The categories/characteristics to scrape for each article (coming from the bio/info box in the top right of the article)\n",
    "-  Outfile - format for the output file, two files will be created 'filename.csv' with the collected data and 'filename_errors.log' that keeps track of the holes in the data "
   ]
  },
  {
   "cell_type": "code",
   "execution_count": 3,
   "metadata": {},
   "outputs": [],
   "source": [
    "def wiki_scrape(article_list=['My Chemical Romance'], char=['Genres'],outfile='wiki_scrape'):\n",
    "    \n",
    "    open(outfile+'.csv','w').close()\n",
    "    open(outfile+'_errors.log','w').close()\n",
    "\n",
    "\n",
    "    for article in article_list:\n",
    "        char_count= [0]*len(char)\n",
    "        suffix=article.replace(\" \",\"_\")\n",
    "        url = prefix + suffix\n",
    "\n",
    "        soup=bs4.BeautifulSoup(requests.get(url).text, 'lxml')\n",
    "        \n",
    "        # Find the info table\n",
    "        table= soup.find('table')\n",
    "        wiki_dict={}\n",
    "\n",
    "        rows=table.find_all('tr')\n",
    "        for row in rows:\n",
    "            row_title=row.find('th')\n",
    "            try:\n",
    "                if row_title.text in char:\n",
    "                    wiki_dict[row.find('th').text]=row.find('td').text\n",
    "                    char_count[char.index(row_title.text)]=1\n",
    "\n",
    "            except:\n",
    "                pass\n",
    "\n",
    "        with open(outfile+'.csv', \"a\") as wfile:\n",
    "            article_output= '\"'  + article + '\",\"' + url + '\",\"' + str(wiki_dict) + '\"'\n",
    "            wfile.write(str(article_output)+ \"\\n\")\n",
    "\n",
    "        if char_count != [1]*len(char):\n",
    "            with open(outfile+'_errors.log', \"a\") as wfile:\n",
    "                for count in char_count:\n",
    "                    if count == 0:\n",
    "                        wfile.write(\"Error: Couldn't find \" + \\\n",
    "                                    \"'\" + char[char_count.index(count)] + \"'\"+ \\\n",
    "                                    \" for \" + \"'\" + article + \"'\" + \"\\n\")"
   ]
  },
  {
   "cell_type": "code",
   "execution_count": 4,
   "metadata": {},
   "outputs": [],
   "source": [
    "halftime=['Coldplay', 'Beyonce', 'Bruno Mars','Katy Perry', 'Lenny Kravitz' ,'Missy Elliott','Bruno Mars', 'Red Hot Chili Peppers']"
   ]
  },
  {
   "cell_type": "code",
   "execution_count": 5,
   "metadata": {},
   "outputs": [],
   "source": [
    "wiki_scrape(halftime,['Born','Died','Genres', 'Children'])"
   ]
  },
  {
   "cell_type": "code",
   "execution_count": 7,
   "metadata": {},
   "outputs": [
    {
     "name": "stdout",
     "output_type": "stream",
     "text": [
      "Coldplay \n",
      "\n",
      "\n",
      "Alternative rock\n",
      "pop rock\n",
      "post-Britpop\n",
      "pop\n",
      "\n",
      "\n",
      "\n"
     ]
    }
   ],
   "source": [
    "import csv\n",
    "newthing=[]\n",
    "with open('wiki_scrape.csv','r') as f:\n",
    "    stuff=csv.reader(f)\n",
    "    for row in stuff:\n",
    "        newthing.append(row)\n",
    "dic=eval(newthing[0][2])\n",
    "print(newthing[0][0],dic['Genres'])"
   ]
  },
  {
   "cell_type": "code",
   "execution_count": 8,
   "metadata": {},
   "outputs": [],
   "source": [
    "# Compare text allowing for mistakes\n",
    "def raw(string):\n",
    "    out=string.rstrip().lower().replace('  ', ' ')\n",
    "    return(out)"
   ]
  },
  {
   "cell_type": "code",
   "execution_count": 16,
   "metadata": {},
   "outputs": [],
   "source": [
    "soup=bs4.BeautifulSoup(requests.get(\"https://en.wikipedia.org/wiki/Muse_(disambiguation)\").text,'lxml')"
   ]
  },
  {
   "cell_type": "code",
   "execution_count": 13,
   "metadata": {},
   "outputs": [
    {
     "data": {
      "text/plain": [
       "True"
      ]
     },
     "execution_count": 13,
     "metadata": {},
     "output_type": "execute_result"
    }
   ],
   "source": [
    "is_article(soup)"
   ]
  },
  {
   "cell_type": "code",
   "execution_count": 17,
   "metadata": {},
   "outputs": [
    {
     "data": {
      "text/plain": [
       "True"
      ]
     },
     "execution_count": 17,
     "metadata": {},
     "output_type": "execute_result"
    }
   ],
   "source": [
    "is_disambig(soup)"
   ]
  },
  {
   "cell_type": "code",
   "execution_count": 12,
   "metadata": {},
   "outputs": [],
   "source": [
    "def is_article(soup):\n",
    "    not_article='Wikipedia does not have an article with this exact name.'\n",
    "    for tag in soup.find_all('b'):\n",
    "        if tag.text == not_article:\n",
    "            return(False)\n",
    "    return True "
   ]
  },
  {
   "cell_type": "code",
   "execution_count": 14,
   "metadata": {},
   "outputs": [],
   "source": [
    "def is_disambig(soup):\n",
    "    if soup.find_all('a',attrs={'title':'Help:Disambiguation'}) == []:\n",
    "        return False\n",
    "    else:\n",
    "        return True"
   ]
  },
  {
   "cell_type": "code",
   "execution_count": null,
   "metadata": {
    "collapsed": true
   },
   "outputs": [],
   "source": [
    "# More features to build\n",
    "\n",
    "### Page lookup right:\n",
    "# Disambigution - if 'Disambigution pages' is in the bottom, then print ambiguity error\n",
    "# Search result - select top result, if no character matches return special error?\n",
    "\n",
    "# Just supply list of URLs (to reduce ambiguity)\n",
    "\n",
    "# Formatting etc, save as dictionary rather than output, etc\n",
    "\n"
   ]
  }
 ],
 "metadata": {
  "kernelspec": {
   "display_name": "Python 3",
   "language": "python",
   "name": "python3"
  },
  "language_info": {
   "codemirror_mode": {
    "name": "ipython",
    "version": 3
   },
   "file_extension": ".py",
   "mimetype": "text/x-python",
   "name": "python",
   "nbconvert_exporter": "python",
   "pygments_lexer": "ipython3",
   "version": "3.6.4"
  }
 },
 "nbformat": 4,
 "nbformat_minor": 2
}
